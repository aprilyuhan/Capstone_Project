{
 "cells": [
  {
   "cell_type": "markdown",
   "metadata": {},
   "source": [
    "# Capstone Project - The Battle of the Neighborhoods"
   ]
  },
  {
   "cell_type": "markdown",
   "metadata": {},
   "source": [
    "## 1. Introduction"
   ]
  },
  {
   "cell_type": "markdown",
   "metadata": {},
   "source": [
    "#### St. Louis locates in the Mid-west of the Unites States, which is the largest metropolitan area in the state of Missouri. Due to the city history, it has a great many traditional American-style restaurants. However, with the city development, multi-cultured people are attracted to St. Louis, which increases the demand for the diversity of its food culture. Among the different styles of dishes, Asian food, especially Chinese food, is one of the popular options. Panda Express is a famous American-style Chinese fast food, which has over 20 stores in St. Louis. American-style Chinese food is the major Chinese restaurant in St. Louis area. Presently, more and more people would like to try authentic Chinese food, which leads to a good potential market in this area.\n",
    "\n",
    "#### In this project, we will try to find an optimal location for a restaurant in St. Louis for the stakeholders that interest in opening an Authentic Chinese restaurant. To ensure the profit of the stakeholders, the selection of location prefers in a prospective area with few competitors.\n"
   ]
  },
  {
   "cell_type": "markdown",
   "metadata": {},
   "source": [
    "## 2. Data"
   ]
  },
  {
   "cell_type": "markdown",
   "metadata": {},
   "source": [
    "#### There are total 79 neighborhoods in St. Louis. Based on the target, the location selection should consider the following factors:\n",
    "#### i.\tThe population of the neighborhood;\n",
    "#### ii.\tThe existing restaurants in the neighborhood;\n",
    "#### iii.\tThe types of existing Chinese restaurants, if any;\n",
    "#### iv.\tThe shopping malls near the neighborhood.\n",
    "\n",
    "#### Based on the factors, the data that will be used in this analysis are listed below:\n",
    "#### i.\tThe list of neighborhoods in St. Louis from Wikipedia;\n",
    "#### ii.\tThe address of the neighborhoods will be obtained by using Google Maps API;\n",
    "#### iii.\tThe number and types of restaurants will be obtained by using Foursquare API\n",
    "#### iv.\tThe number of shops will be obtained by using Foursquare API.\n"
   ]
  },
  {
   "cell_type": "code",
   "execution_count": null,
   "metadata": {},
   "outputs": [],
   "source": []
  }
 ],
 "metadata": {
  "kernelspec": {
   "display_name": "Python 3",
   "language": "python",
   "name": "python3"
  },
  "language_info": {
   "codemirror_mode": {
    "name": "ipython",
    "version": 3
   },
   "file_extension": ".py",
   "mimetype": "text/x-python",
   "name": "python",
   "nbconvert_exporter": "python",
   "pygments_lexer": "ipython3",
   "version": "3.7.3"
  }
 },
 "nbformat": 4,
 "nbformat_minor": 4
}
